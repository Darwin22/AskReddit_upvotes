{
 "cells": [
  {
   "cell_type": "markdown",
   "metadata": {},
   "source": [
    "### Predicting upvotes for 'AskReddit' subreddit\n",
    "\n",
    "### prepared by Darwin Lajoie \n",
    "\n"
   ]
  },
  {
   "cell_type": "markdown",
   "metadata": {},
   "source": [
    "## Introduction\n",
    "\n",
    "The goal in this work is to predict the number of upvotes of reddit comments. We have the dataset 'comments_students.csv' that consist of millions comments from the subreddit \"AskReddit\". The dataset contains one comment per line and each comment is described with the following 10 attributes:\n",
    "\n",
    "\n",
    "- created_utc: The time of creation in UTC epoch-second format. Note that neither of these ever have a non-zero fraction.\n",
    "- ups: The score of the comment. __ It is the attribute to be predicted.__\n",
    "- subreddit_id: The id of the subreddit in which the thing is located\n",
    "- link_id: ID of the link this comment is in\n",
    "- name: Fullname of comment, e.g.\\t1_c3v7f8u\"\n",
    "- subreddit: Subreddit of thing excluding the /r/ pre\f",
    "x. \\pics\"\n",
    "- id: This item's identi\f",
    "fier, e.g. \\8xwlg\"\n",
    "- author: The account name of the poster\n",
    "- body: The raw text, this is the unformatted text which includes the raw markup characters such as ** for bold. (<, >, and & are escaped)\n",
    "- parent_id: ID of the thing this comment is a reply to, either the link or comment in it\n",
    "\n",
    "The target variable is UPS and I will combine network and text mining techniques to generate features for the regression models.\n",
    "\n"
   ]
  },
  {
   "cell_type": "markdown",
   "metadata": {},
   "source": [
    "## Importing libraries and the dataset \"comments_students.csv\"\n",
    "\n",
    "In this part we are importing the necessary packages as well as the dataset \"comments_students.csv\""
   ]
  },
  {
   "cell_type": "code",
   "execution_count": 18,
   "metadata": {},
   "outputs": [],
   "source": [
    "%matplotlib inline\n",
    "# I import pandas and numpy in order to manipulate the data on dataframe format and use severals numerical calculations\n",
    "import pandas as pd\n",
    "import numpy as np\n",
    "# The re library will help in the cleaning process of text data in the column body \n",
    "import re\n",
    "# Matplotlib and seaborn for visualization:\n",
    "import matplotlib.pyplot as plt\n",
    "import seaborn as sns\n",
    "\n",
    "# netowrkx is for the network analysis part\n",
    "import networkx as nx\n",
    "from scipy import stats\n",
    "\n",
    "# Below is a group of librairies and functions for words tokenizations\n",
    "import nltk\n",
    "from nltk.tokenize import word_tokenize#RegexpTokenizer\n",
    "from nltk.stem import WordNetLemmatizer,PorterStemmer\n",
    "from nltk.corpus import stopwords\n",
    "#nltk.download('stopwords')\n",
    "#nltk.download('wordnet')\n",
    "#nltk.download('punkt')\n",
    "\n",
    "# below I import a group of libraries and functions regarding feature extractions and modeling\n",
    "from sklearn.feature_extraction.text import TfidfVectorizer, CountVectorizer\n",
    "from sklearn.feature_extraction.text import TfidfTransformer\n",
    "from sklearn.pipeline import make_pipeline\n",
    "from sklearn.preprocessing import Normalizer\n",
    "from sklearn import metrics\n",
    "from sklearn.pipeline import Pipeline\n",
    "\n",
    "from sklearn.decomposition import NMF, LatentDirichletAllocation\n",
    "\n",
    "import warnings\n",
    "warnings.filterwarnings('ignore')\n",
    "warnings.simplefilter('ignore')"
   ]
  },
  {
   "cell_type": "code",
   "execution_count": 2,
   "metadata": {},
   "outputs": [],
   "source": [
    "# Here I start by importing the dataset\n",
    "# The path of comments_students.csv file\n",
    "filePath = \"D:/M2Toulouse/Web mining/Project/data/comments_students.csv\"\n",
    "# Importing the data using read_csv from pandas\n",
    "df = pd.read_csv(filePath)"
   ]
  },
  {
   "cell_type": "code",
   "execution_count": 3,
   "metadata": {},
   "outputs": [
    {
     "name": "stdout",
     "output_type": "stream",
     "text": [
      "File Size in MegaBytes is 993.7862157821655\n"
     ]
    }
   ],
   "source": [
    "# Checking the file size to see how big it is\n",
    "import os\n",
    "file_stats = os.stat(filePath)\n",
    "print(f'File Size in MegaBytes is {file_stats.st_size / (1024 * 1024)}')"
   ]
  },
  {
   "cell_type": "code",
   "execution_count": 4,
   "metadata": {},
   "outputs": [
    {
     "data": {
      "text/html": [
       "<div>\n",
       "<style scoped>\n",
       "    .dataframe tbody tr th:only-of-type {\n",
       "        vertical-align: middle;\n",
       "    }\n",
       "\n",
       "    .dataframe tbody tr th {\n",
       "        vertical-align: top;\n",
       "    }\n",
       "\n",
       "    .dataframe thead th {\n",
       "        text-align: right;\n",
       "    }\n",
       "</style>\n",
       "<table border=\"1\" class=\"dataframe\">\n",
       "  <thead>\n",
       "    <tr style=\"text-align: right;\">\n",
       "      <th></th>\n",
       "      <th>created_utc</th>\n",
       "      <th>ups</th>\n",
       "      <th>subreddit_id</th>\n",
       "      <th>link_id</th>\n",
       "      <th>name</th>\n",
       "      <th>subreddit</th>\n",
       "      <th>id</th>\n",
       "      <th>author</th>\n",
       "      <th>body</th>\n",
       "      <th>parent_id</th>\n",
       "    </tr>\n",
       "  </thead>\n",
       "  <tbody>\n",
       "    <tr>\n",
       "      <th>0</th>\n",
       "      <td>1430438400</td>\n",
       "      <td>3.0</td>\n",
       "      <td>t5_2qh1i</td>\n",
       "      <td>t3_34f9rh</td>\n",
       "      <td>t1_cqug90j</td>\n",
       "      <td>AskReddit</td>\n",
       "      <td>cqug90j</td>\n",
       "      <td>jesse9o3</td>\n",
       "      <td>No one has a European accent either  because i...</td>\n",
       "      <td>t1_cqug2sr</td>\n",
       "    </tr>\n",
       "    <tr>\n",
       "      <th>1</th>\n",
       "      <td>1430438400</td>\n",
       "      <td>3.0</td>\n",
       "      <td>t5_2qh1i</td>\n",
       "      <td>t3_34fvry</td>\n",
       "      <td>t1_cqug90k</td>\n",
       "      <td>AskReddit</td>\n",
       "      <td>cqug90k</td>\n",
       "      <td>beltfedshooter</td>\n",
       "      <td>That the kid ..reminds me of Kevin.   so sad :-(</td>\n",
       "      <td>t3_34fvry</td>\n",
       "    </tr>\n",
       "    <tr>\n",
       "      <th>2</th>\n",
       "      <td>1430438400</td>\n",
       "      <td>5.0</td>\n",
       "      <td>t5_2qh1i</td>\n",
       "      <td>t3_34ffo5</td>\n",
       "      <td>t1_cqug90z</td>\n",
       "      <td>AskReddit</td>\n",
       "      <td>cqug90z</td>\n",
       "      <td>InterimFatGuy</td>\n",
       "      <td>NSFL</td>\n",
       "      <td>t1_cqu80zb</td>\n",
       "    </tr>\n",
       "    <tr>\n",
       "      <th>3</th>\n",
       "      <td>1430438401</td>\n",
       "      <td>1.0</td>\n",
       "      <td>t5_2qh1i</td>\n",
       "      <td>t3_34aqsn</td>\n",
       "      <td>t1_cqug91c</td>\n",
       "      <td>AskReddit</td>\n",
       "      <td>cqug91c</td>\n",
       "      <td>JuanTutrego</td>\n",
       "      <td>I'm a guy and I had no idea this was a thing g...</td>\n",
       "      <td>t1_cqtdj4m</td>\n",
       "    </tr>\n",
       "    <tr>\n",
       "      <th>4</th>\n",
       "      <td>1430438401</td>\n",
       "      <td>101.0</td>\n",
       "      <td>t5_2qh1i</td>\n",
       "      <td>t3_34f9rh</td>\n",
       "      <td>t1_cqug91e</td>\n",
       "      <td>AskReddit</td>\n",
       "      <td>cqug91e</td>\n",
       "      <td>dcblackbelt</td>\n",
       "      <td>Mid twenties male rocking skinny jeans/pants, ...</td>\n",
       "      <td>t1_cquc4rc</td>\n",
       "    </tr>\n",
       "  </tbody>\n",
       "</table>\n",
       "</div>"
      ],
      "text/plain": [
       "   created_utc    ups subreddit_id    link_id        name  subreddit       id  \\\n",
       "0   1430438400    3.0     t5_2qh1i  t3_34f9rh  t1_cqug90j  AskReddit  cqug90j   \n",
       "1   1430438400    3.0     t5_2qh1i  t3_34fvry  t1_cqug90k  AskReddit  cqug90k   \n",
       "2   1430438400    5.0     t5_2qh1i  t3_34ffo5  t1_cqug90z  AskReddit  cqug90z   \n",
       "3   1430438401    1.0     t5_2qh1i  t3_34aqsn  t1_cqug91c  AskReddit  cqug91c   \n",
       "4   1430438401  101.0     t5_2qh1i  t3_34f9rh  t1_cqug91e  AskReddit  cqug91e   \n",
       "\n",
       "           author                                               body  \\\n",
       "0        jesse9o3  No one has a European accent either  because i...   \n",
       "1  beltfedshooter   That the kid ..reminds me of Kevin.   so sad :-(   \n",
       "2   InterimFatGuy                                               NSFL   \n",
       "3     JuanTutrego  I'm a guy and I had no idea this was a thing g...   \n",
       "4     dcblackbelt  Mid twenties male rocking skinny jeans/pants, ...   \n",
       "\n",
       "    parent_id  \n",
       "0  t1_cqug2sr  \n",
       "1   t3_34fvry  \n",
       "2  t1_cqu80zb  \n",
       "3  t1_cqtdj4m  \n",
       "4  t1_cquc4rc  "
      ]
     },
     "execution_count": 4,
     "metadata": {},
     "output_type": "execute_result"
    }
   ],
   "source": [
    "# A snapshot of the first few lines of the dataframe\n",
    "df.head()"
   ]
  },
  {
   "cell_type": "code",
   "execution_count": 5,
   "metadata": {},
   "outputs": [
    {
     "data": {
      "text/plain": [
       "(4234970, 10)"
      ]
     },
     "execution_count": 5,
     "metadata": {},
     "output_type": "execute_result"
    }
   ],
   "source": [
    "# Here we check de dimension of the data\n",
    "df.shape"
   ]
  },
  {
   "cell_type": "markdown",
   "metadata": {},
   "source": [
    "## Network Mining\n",
    "\n",
    "\n",
    "In this part, I created a graph using network mining techniques. My aim is to create a network of comments where the nodes are comments and a node is linked to another one if they have the same parents id. Thus, I use the columns name and parent_id to create my graph. \n",
    "\n",
    "After generating the graph, I calculated severals common metrics in network analysis such as degree centrality, closeness centrality... The goal is to see if we can use these metrics as inputs for the modeling part. "
   ]
  },
  {
   "cell_type": "code",
   "execution_count": 6,
   "metadata": {},
   "outputs": [],
   "source": [
    "# -----------Network analysis\n",
    "# I first create an empty network\n",
    "g= nx.DiGraph()"
   ]
  },
  {
   "cell_type": "code",
   "execution_count": 7,
   "metadata": {},
   "outputs": [],
   "source": [
    "# Add nodes using the field name from our dataframe df:\n",
    "g.add_nodes_from(df.name, type=\"comment\")"
   ]
  },
  {
   "cell_type": "code",
   "execution_count": 8,
   "metadata": {},
   "outputs": [],
   "source": [
    "# Add edges using the field parent_id from the dataframe df\n",
    "g.add_edges_from(df[[\"name\",\"parent_id\"]].values, link_type=\"parent\")"
   ]
  },
  {
   "cell_type": "code",
   "execution_count": 9,
   "metadata": {},
   "outputs": [],
   "source": [
    "# First, I want to plot the degree distribution to see if it follows a power-law distribution:\n",
    "#Calculate and store the degree of each node\n",
    "deg = nx.degree(g)"
   ]
  },
  {
   "cell_type": "code",
   "execution_count": 10,
   "metadata": {},
   "outputs": [],
   "source": [
    "# Convert the result (a dict) into a Pandas object, a Series\n",
    "df_deg = pd.Series([y for (x,y) in deg]) "
   ]
  },
  {
   "cell_type": "code",
   "execution_count": 11,
   "metadata": {},
   "outputs": [
    {
     "data": {
      "image/png": "[encoded data removed]",
      "text/plain": [
       "<Figure size 432x288 with 1 Axes>"
      ]
     },
     "metadata": {
      "needs_background": "light"
     },
     "output_type": "display_data"
    }
   ],
   "source": [
    "# Now I can use the seaborn distplot function to plot the degree distribution. I am also checking if the graph satifies\n",
    "# power-law distribution properties\n",
    "sns.distplot(df_deg,bins=20, kde=False, fit=stats.powerlaw)\n",
    "plt.show()"
   ]
  },
  {
   "cell_type": "code",
   "execution_count": 12,
   "metadata": {},
   "outputs": [],
   "source": [
    "# Below I start computing some metrics and add them into the dataframe df so we can use them later on in the modeling part\n",
    "# Here I calculate de degree centrality of the comments and add the result as column in the dataframe df\n",
    "degreeCentrality= nx.degree_centrality(g)\n",
    "df['degreeCentrality'] = df['name'].map(degreeCentrality)"
   ]
  },
  {
   "cell_type": "code",
   "execution_count": 13,
   "metadata": {},
   "outputs": [],
   "source": [
    "# Here I calculate the closeness centrality of each comments and add the values in the dataframe df\n",
    "closenessCentrality = nx.closeness_centrality(g)\n",
    "df['closenessCentrality'] = df['name'].map(closenessCentrality)"
   ]
  },
  {
   "cell_type": "code",
   "execution_count": 14,
   "metadata": {},
   "outputs": [],
   "source": [
    "# Here we are calculating the eigenvector Centrality of each comments and add the values in our dataframe df\n",
    "#eigenvectorCentrality = nx.eigenvector_centrality(g)\n",
    "#df['eigenvectorCentrality'] = df['name'].map(eigenvectorCentrality)"
   ]
  },
  {
   "cell_type": "markdown",
   "metadata": {},
   "source": [
    "Below I plot the scatterplot of these metrics with the target variable UPS to see the type of relationship. As we can see, though this is not strong, but there is a positive relationship between the closenessCentrality of a comment and \n",
    "the number of upvotes it might obtain."
   ]
  },
  {
   "cell_type": "code",
   "execution_count": 19,
   "metadata": {},
   "outputs": [
    {
     "data": {
      "image/png": "[encoded data removed]",
      "text/plain": [
       "<Figure size 432x288 with 1 Axes>"
      ]
     },
     "metadata": {
      "needs_background": "light"
     },
     "output_type": "display_data"
    }
   ],
   "source": [
    "# use the function regplot from seaborn to make a scatterplot between closenessCentrality and the ups variable.  \n",
    "sns.regplot(x=df[\"closenessCentrality\"], y=df[\"ups\"])\n",
    "plt.show()"
   ]
  },
  {
   "cell_type": "code",
   "execution_count": 20,
   "metadata": {},
   "outputs": [
    {
     "data": {
      "image/png": "[encoded data removed]",
      "text/plain": [
       "<Figure size 432x288 with 1 Axes>"
      ]
     },
     "metadata": {
      "needs_background": "light"
     },
     "output_type": "display_data"
    }
   ],
   "source": [
    "#scatterplot between closenessCentrality and the ups variable\n",
    "# We can see the same for the scatterplot between degreecentrality and ups, but less stronger than the one before.\n",
    "sns.regplot(x=df[\"degreeCentrality\"], y=df[\"ups\"])\n",
    "plt.show()\n"
   ]
  },
  {
   "cell_type": "code",
   "execution_count": 21,
   "metadata": {},
   "outputs": [],
   "source": [
    "# Next, I calculate the pagerank and add it into the table df\n",
    "pagerank = nx.pagerank_scipy(g)\n",
    "df['pagerank'] = df['name'].map(pagerank)"
   ]
  },
  {
   "cell_type": "code",
   "execution_count": 22,
   "metadata": {},
   "outputs": [
    {
     "data": {
      "image/png": "[encoded data removed]",
      "text/plain": [
       "<Figure size 432x288 with 1 Axes>"
      ]
     },
     "metadata": {
      "needs_background": "light"
     },
     "output_type": "display_data"
    }
   ],
   "source": [
    "#scatterplot between pagerank variable and the ups variable\n",
    "sns.regplot(x=df[\"pagerank\"], y=df[\"ups\"])\n",
    "plt.show()"
   ]
  },
  {
   "cell_type": "code",
   "execution_count": 23,
   "metadata": {},
   "outputs": [],
   "source": [
    "# I calculate hubs and authorities and also add them in df:\n",
    "hubs, authorities = nx.hits_scipy(g)\n",
    "df['hubs'] = df['name'].map(hubs)\n",
    "df['authorities'] = df['name'].map(authorities)"
   ]
  },
  {
   "cell_type": "code",
   "execution_count": null,
   "metadata": {},
   "outputs": [],
   "source": []
  },
  {
   "cell_type": "markdown",
   "metadata": {},
   "source": [
    "-------"
   ]
  },
  {
   "cell_type": "markdown",
   "metadata": {},
   "source": [
    "## Text mining\n",
    "\n",
    "In this part, I focus on the text analysis part of the project. Precisely, The column of interest is the field \"body\" that have the contents of the comments. We will start by creating some metrics such as number of words, number of sentences, number of question mark \"?\". then we will process the column body to create a tf-idf matrix."
   ]
  },
  {
   "cell_type": "code",
   "execution_count": 24,
   "metadata": {},
   "outputs": [
    {
     "data": {
      "text/plain": [
       "created_utc                  0\n",
       "ups                    1016458\n",
       "subreddit_id                 0\n",
       "link_id                      0\n",
       "name                         0\n",
       "subreddit                    0\n",
       "id                           0\n",
       "author                       0\n",
       "body                        61\n",
       "parent_id                    0\n",
       "degreeCentrality             0\n",
       "closenessCentrality          0\n",
       "pagerank                     0\n",
       "hubs                         0\n",
       "authorities                  0\n",
       "dtype: int64"
      ]
     },
     "execution_count": 24,
     "metadata": {},
     "output_type": "execute_result"
    }
   ],
   "source": [
    "# Before dive-in, let's look for columns with NaN values. In fact,some pre-processing technics that I will use below will \n",
    "# not workd if the column body contains NaN values\n",
    "df.isnull().sum()"
   ]
  },
  {
   "cell_type": "raw",
   "metadata": {},
   "source": [
    "We see that the field \"body\" contains 61 NaN values that need to be addressed. Being careful to not removing comments that will fall into the test set, I decided to replace these NaN values with the string \"null\". "
   ]
  },
  {
   "cell_type": "code",
   "execution_count": 25,
   "metadata": {},
   "outputs": [],
   "source": [
    "# Replace NaN values with \"null\" strings:\n",
    "df.body.fillna('null',inplace=True)"
   ]
  },
  {
   "cell_type": "markdown",
   "metadata": {},
   "source": [
    "### 1- Metrics created from column \"body\"\n",
    "\n",
    "\n",
    "Here, we are creating the following metrics and include them in df:\n",
    "\n",
    "- nb_words : Which is the number of word in each comment. The reason is that I assume that a comment too wordy as well a comment with too few words many push the readers to vote negatively. Though, the number of words might have some influences on ups. \n",
    "- nb_exclamation: the number of exclamation points in each comment. The idea is that a comment with exclamations look appealing and can attract upvotes\n",
    "- nb_Quest: Number of question marks in each comment. Same for the questions. \n",
    "- nb_DistinctWords: Number of distinct words in each comment. This metric give an idea of the authors' vocabulary.\n",
    "- nb_sentences: Number of sentences in each comment. \n",
    "- nb_DifficulWords: Number of difficult words in each comment. This metric also give an idea of the authors' vocabulary."
   ]
  },
  {
   "cell_type": "code",
   "execution_count": 26,
   "metadata": {},
   "outputs": [],
   "source": [
    "# I have to import the package re and textstat to calculate these metrics. But we already import the re package \n",
    "#in the beginning. I also include these metrics as new columns in df:\n",
    "\n",
    "import textstat\n",
    "\n",
    "# number of words in each comments:\n",
    "df['nb_words'] = list(map(lambda x: len(x.split()), df.body))\n",
    "# Number of exclamation marks in each comments\n",
    "df['nb_exclamation']= list(map(lambda x: len(re.findall('\\!',x)), df.body))\n",
    "# Number of question marks in each comments\n",
    "df['nb_Quest']= list(map(lambda x: len(re.findall('\\?',x)), df.body))\n",
    "# Number of different words in each comments\n",
    "df['nb_DistinctWords'] = list(map(lambda x: len(set((x.split()))), df.body))\n",
    "# Number of sentences in each comments\n",
    "df['nb_sentences'] = list(map(lambda x: textstat.sentence_count(x), df.body))\n",
    "# Number of difficult words in each comments\n",
    "df['nb_DifficultWords'] = list(map(lambda x: textstat.difficult_words(x), df.body))"
   ]
  },
  {
   "cell_type": "markdown",
   "metadata": {},
   "source": [
    "### Preprocessing the column \"body\"\n",
    "\n",
    "Here, we will process the column body to create a matrix of features with tf-idf technics\n"
   ]
  },
  {
   "cell_type": "code",
   "execution_count": 27,
   "metadata": {},
   "outputs": [],
   "source": [
    "# First, let remove the column that we will not need for the modeling\n",
    "df2 = df.drop(['created_utc','subreddit_id','subreddit','link_id','name','parent_id'],axis=1)"
   ]
  },
  {
   "cell_type": "code",
   "execution_count": 28,
   "metadata": {},
   "outputs": [
    {
     "data": {
      "text/html": [
       "<div>\n",
       "<style scoped>\n",
       "    .dataframe tbody tr th:only-of-type {\n",
       "        vertical-align: middle;\n",
       "    }\n",
       "\n",
       "    .dataframe tbody tr th {\n",
       "        vertical-align: top;\n",
       "    }\n",
       "\n",
       "    .dataframe thead th {\n",
       "        text-align: right;\n",
       "    }\n",
       "</style>\n",
       "<table border=\"1\" class=\"dataframe\">\n",
       "  <thead>\n",
       "    <tr style=\"text-align: right;\">\n",
       "      <th></th>\n",
       "      <th>ups</th>\n",
       "      <th>id</th>\n",
       "      <th>author</th>\n",
       "      <th>body</th>\n",
       "      <th>degreeCentrality</th>\n",
       "      <th>closenessCentrality</th>\n",
       "      <th>pagerank</th>\n",
       "      <th>hubs</th>\n",
       "      <th>authorities</th>\n",
       "      <th>nb_words</th>\n",
       "      <th>nb_exclamation</th>\n",
       "      <th>nb_Quest</th>\n",
       "      <th>nb_DistinctWords</th>\n",
       "      <th>nb_sentences</th>\n",
       "      <th>nb_DifficultWords</th>\n",
       "    </tr>\n",
       "  </thead>\n",
       "  <tbody>\n",
       "    <tr>\n",
       "      <th>0</th>\n",
       "      <td>3.0</td>\n",
       "      <td>cqug90j</td>\n",
       "      <td>jesse9o3</td>\n",
       "      <td>No one has a European accent either  because i...</td>\n",
       "      <td>2.275450e-07</td>\n",
       "      <td>0.000000e+00</td>\n",
       "      <td>4.116311e-08</td>\n",
       "      <td>5.030285e-77</td>\n",
       "      <td>0.000000e+00</td>\n",
       "      <td>21</td>\n",
       "      <td>0</td>\n",
       "      <td>0</td>\n",
       "      <td>19</td>\n",
       "      <td>2</td>\n",
       "      <td>5</td>\n",
       "    </tr>\n",
       "    <tr>\n",
       "      <th>1</th>\n",
       "      <td>3.0</td>\n",
       "      <td>cqug90k</td>\n",
       "      <td>beltfedshooter</td>\n",
       "      <td>That the kid ..reminds me of Kevin.   so sad :-(</td>\n",
       "      <td>2.275450e-07</td>\n",
       "      <td>0.000000e+00</td>\n",
       "      <td>4.116311e-08</td>\n",
       "      <td>1.777681e-26</td>\n",
       "      <td>0.000000e+00</td>\n",
       "      <td>10</td>\n",
       "      <td>0</td>\n",
       "      <td>0</td>\n",
       "      <td>10</td>\n",
       "      <td>1</td>\n",
       "      <td>1</td>\n",
       "    </tr>\n",
       "    <tr>\n",
       "      <th>2</th>\n",
       "      <td>5.0</td>\n",
       "      <td>cqug90z</td>\n",
       "      <td>InterimFatGuy</td>\n",
       "      <td>NSFL</td>\n",
       "      <td>2.275450e-07</td>\n",
       "      <td>0.000000e+00</td>\n",
       "      <td>4.116311e-08</td>\n",
       "      <td>7.675606e-66</td>\n",
       "      <td>0.000000e+00</td>\n",
       "      <td>1</td>\n",
       "      <td>0</td>\n",
       "      <td>0</td>\n",
       "      <td>1</td>\n",
       "      <td>1</td>\n",
       "      <td>1</td>\n",
       "    </tr>\n",
       "    <tr>\n",
       "      <th>3</th>\n",
       "      <td>1.0</td>\n",
       "      <td>cqug91c</td>\n",
       "      <td>JuanTutrego</td>\n",
       "      <td>I'm a guy and I had no idea this was a thing g...</td>\n",
       "      <td>2.275450e-07</td>\n",
       "      <td>0.000000e+00</td>\n",
       "      <td>4.116311e-08</td>\n",
       "      <td>2.160491e-67</td>\n",
       "      <td>0.000000e+00</td>\n",
       "      <td>14</td>\n",
       "      <td>0</td>\n",
       "      <td>0</td>\n",
       "      <td>13</td>\n",
       "      <td>1</td>\n",
       "      <td>0</td>\n",
       "    </tr>\n",
       "    <tr>\n",
       "      <th>4</th>\n",
       "      <td>101.0</td>\n",
       "      <td>cqug91e</td>\n",
       "      <td>dcblackbelt</td>\n",
       "      <td>Mid twenties male rocking skinny jeans/pants, ...</td>\n",
       "      <td>4.550899e-07</td>\n",
       "      <td>3.033933e-07</td>\n",
       "      <td>2.345763e-07</td>\n",
       "      <td>3.296648e-72</td>\n",
       "      <td>1.547869e-72</td>\n",
       "      <td>43</td>\n",
       "      <td>0</td>\n",
       "      <td>0</td>\n",
       "      <td>39</td>\n",
       "      <td>3</td>\n",
       "      <td>9</td>\n",
       "    </tr>\n",
       "  </tbody>\n",
       "</table>\n",
       "</div>"
      ],
      "text/plain": [
       "     ups       id          author  \\\n",
       "0    3.0  cqug90j        jesse9o3   \n",
       "1    3.0  cqug90k  beltfedshooter   \n",
       "2    5.0  cqug90z   InterimFatGuy   \n",
       "3    1.0  cqug91c     JuanTutrego   \n",
       "4  101.0  cqug91e     dcblackbelt   \n",
       "\n",
       "                                                body  degreeCentrality  \\\n",
       "0  No one has a European accent either  because i...      2.275450e-07   \n",
       "1   That the kid ..reminds me of Kevin.   so sad :-(      2.275450e-07   \n",
       "2                                               NSFL      2.275450e-07   \n",
       "3  I'm a guy and I had no idea this was a thing g...      2.275450e-07   \n",
       "4  Mid twenties male rocking skinny jeans/pants, ...      4.550899e-07   \n",
       "\n",
       "   closenessCentrality      pagerank          hubs   authorities  nb_words  \\\n",
       "0         0.000000e+00  4.116311e-08  5.030285e-77  0.000000e+00        21   \n",
       "1         0.000000e+00  4.116311e-08  1.777681e-26  0.000000e+00        10   \n",
       "2         0.000000e+00  4.116311e-08  7.675606e-66  0.000000e+00         1   \n",
       "3         0.000000e+00  4.116311e-08  2.160491e-67  0.000000e+00        14   \n",
       "4         3.033933e-07  2.345763e-07  3.296648e-72  1.547869e-72        43   \n",
       "\n",
       "   nb_exclamation  nb_Quest  nb_DistinctWords  nb_sentences  nb_DifficultWords  \n",
       "0               0         0                19             2                  5  \n",
       "1               0         0                10             1                  1  \n",
       "2               0         0                 1             1                  1  \n",
       "3               0         0                13             1                  0  \n",
       "4               0         0                39             3                  9  "
      ]
     },
     "execution_count": 28,
     "metadata": {},
     "output_type": "execute_result"
    }
   ],
   "source": [
    "df2.head()"
   ]
  },
  {
   "cell_type": "markdown",
   "metadata": {},
   "source": [
    "Then I create a function to clean the comments. Basically, the function will lowercase all words, removing digits and special characters and then return the clean texts. "
   ]
  },
  {
   "cell_type": "code",
   "execution_count": 29,
   "metadata": {},
   "outputs": [],
   "source": [
    "# Stemmer or lemmatizer\n",
    "#lemmatizer = WordNetLemmatizer()\n",
    "#stemmer = PorterStemmer() \n",
    "\n",
    "\n",
    "def preprocess(sentence):\n",
    "    sentence=str(sentence)\n",
    "    sentence = sentence.lower()\n",
    "    cleantext = re.sub('[^A-Za-z\\s]+', '', sentence)\n",
    "    #tokens = word_tokenize(cleantext)  \n",
    "    #filtered_words = [w for w in tokens  if not w  in stopwords.words('english')]\n",
    "    #stem_words=[stemmer.stem(w) for w in filtered_words]\n",
    "    #lemma_words=[lemmatizer.lemmatize(w) for w in filtered_words]\n",
    "    #return \" \".join(cleantext)\n",
    "    return cleantext\n",
    "\n",
    "#preprocess(\" this is #45467 & \\ / . test working broken not working\")\n"
   ]
  },
  {
   "cell_type": "code",
   "execution_count": 30,
   "metadata": {},
   "outputs": [],
   "source": [
    "# Then I apply the function created on the column 'body'\n",
    "df2['body']=df2['body'].map(lambda s:preprocess(s)) "
   ]
  },
  {
   "cell_type": "markdown",
   "metadata": {},
   "source": [
    "\n",
    "\n",
    "Now, I start the real manipulation of the \"body\" field. I first create a variable to store the number of features I want to manipulate (i.e., the size of the vocabulary). Then, I build the TF-IDF term-document matrix using the TfidfVectorizer with the following parameter values:\n",
    "\n",
    "    Filter out words that appear in more than 50% of the documents\n",
    "    Filter out words that appear in less than 5 documents\n",
    "    Use the idf\n",
    "    Filter out english stop words\n",
    "    Keep only number_of_features words\n",
    "\n"
   ]
  },
  {
   "cell_type": "code",
   "execution_count": 31,
   "metadata": {},
   "outputs": [],
   "source": [
    "###---- Vectorizer\n",
    "\n",
    "n_features = 5000 # vocabulary size\n",
    "vectorizer = TfidfVectorizer(max_df=0.5, max_features=n_features,min_df=5,\n",
    "                             stop_words='english',use_idf=True)"
   ]
  },
  {
   "cell_type": "code",
   "execution_count": 32,
   "metadata": {},
   "outputs": [],
   "source": [
    "# I apply the vectorizer on \"body\"\n",
    "X = vectorizer.fit_transform(df2['body'])\n"
   ]
  },
  {
   "cell_type": "code",
   "execution_count": 33,
   "metadata": {},
   "outputs": [
    {
     "name": "stdout",
     "output_type": "stream",
     "text": [
      "n_samples: 4234970, n_features: 5000\n"
     ]
    }
   ],
   "source": [
    "print(\"n_samples: %d, n_features: %d\" % X.shape)"
   ]
  },
  {
   "cell_type": "code",
   "execution_count": 34,
   "metadata": {},
   "outputs": [],
   "source": [
    "# Print the features' names to see:\n",
    "#vectorizer.get_feature_names()"
   ]
  },
  {
   "cell_type": "markdown",
   "metadata": {},
   "source": [
    "Now, as I have 5000 words in the vocabulary, many of those words are probably related. One thing we do is to group those related words into the same topics. We have seen in class two possible soft clustering technics that can do exactly that, which are LDA and NMF. Since I use TF-IDF previously, and LDA is only used term frequency, I choose to implement the NMF instead. As a reminder, the LDA and NMF are among algorithms that can be used to group words (dimensionality reduction). "
   ]
  },
  {
   "cell_type": "code",
   "execution_count": 35,
   "metadata": {},
   "outputs": [
    {
     "data": {
      "text/plain": [
       "NMF(alpha=0.0, beta_loss='frobenius', init=None, l1_ratio=0.0, max_iter=200,\n",
       "  n_components=30, random_state=None, shuffle=False, solver='cd',\n",
       "  tol=0.0001, verbose=0)"
      ]
     },
     "execution_count": 35,
     "metadata": {},
     "output_type": "execute_result"
    }
   ],
   "source": [
    "# Let's  do a topic modeling using nmf. Here, I chose 30 of the mostr representative topic. \n",
    "nmf = NMF(n_components=30) # utilisation de la fonction nmf comme paramètre les 25 topics.\n",
    "nmf.fit(X)"
   ]
  },
  {
   "cell_type": "code",
   "execution_count": 36,
   "metadata": {},
   "outputs": [],
   "source": [
    "nmf_W = nmf.transform(X)\n",
    "nmf_H = nmf.components_"
   ]
  },
  {
   "cell_type": "code",
   "execution_count": 37,
   "metadata": {},
   "outputs": [],
   "source": [
    "# Here I create a function to diplay the topics\n",
    "def display_topics_full(H, W, feature_names, documents, no_top_words, no_top_documents):\n",
    "    for topic_idx, topic in enumerate(H):\n",
    "        print (\"Topic %d:\" % (topic_idx))\n",
    "        print (\" \".join([feature_names[i] for i in topic.argsort()[:-no_top_words - 1:-1]]))\n",
    "        top_doc_indices = np.argsort( W[:,topic_idx] )[::-1][0:no_top_documents]\n",
    "        for doc_index in top_doc_indices:\n",
    "            print(documents[doc_index])\n",
    "            print(\"------------------------\")"
   ]
  },
  {
   "cell_type": "code",
   "execution_count": 38,
   "metadata": {},
   "outputs": [],
   "source": [
    "# Here we present the topics kept by the nmf algorithm:\n",
    "#display_topics_full(nmf_H,nmf_W, vectorizer.get_feature_names(), df2.body, 10, 10)"
   ]
  },
  {
   "cell_type": "code",
   "execution_count": 39,
   "metadata": {},
   "outputs": [],
   "source": [
    "# Then here, I add these 30 topics as features in my dataset\n",
    "col_name = ['Topic_'+ str(i) for i in np.arange(0,30)]\n",
    "df_nmf = pd.DataFrame(nmf_W, columns=col_name)\n",
    "df3 = pd.concat([df2.reset_index(drop=True), df_nmf.reset_index(drop=True)], axis=1)"
   ]
  },
  {
   "cell_type": "markdown",
   "metadata": {},
   "source": [
    "-----"
   ]
  },
  {
   "cell_type": "markdown",
   "metadata": {},
   "source": [
    "## Modeling"
   ]
  },
  {
   "cell_type": "markdown",
   "metadata": {},
   "source": [
    "Here, we get to the part where we implement several models, and decided which one to submit based on the performances(MAE)"
   ]
  },
  {
   "cell_type": "code",
   "execution_count": 40,
   "metadata": {},
   "outputs": [],
   "source": [
    "# Because I will remove the column id from the data, let's save the IDs belonging to test part in a variable to use during \n",
    "#the submission\n",
    "test_id = df3.id[df3.ups.isnull()==True]"
   ]
  },
  {
   "cell_type": "code",
   "execution_count": 41,
   "metadata": {},
   "outputs": [],
   "source": [
    "###--- remove some additional variables we won't need\n",
    "df3 = df3.drop(['id','author','body'],axis=1)"
   ]
  },
  {
   "cell_type": "code",
   "execution_count": 42,
   "metadata": {},
   "outputs": [],
   "source": [
    "# Splitting the dataset into training, validation and test set. the set will be where the variable UPS is none.\n",
    "# 70% of data have values for the target variable ups. so below, I just split this 70% part into training and validation,\n",
    "# where the validation set will 30% of this part.\n",
    "from sklearn.model_selection import train_test_split\n",
    "X_train, X_valid, y_train, y_valid = train_test_split(df3[df3.ups.isnull() == False].drop('ups', axis=1), \n",
    "df3.ups[df3.ups.isnull() == False], shuffle=False, test_size = 0.30)\n",
    "# Then below, I just consider the other part (30%) of the data where ups is none as the test set:\n",
    "X_test = df3[df3.ups.isnull()== True].drop('ups', axis=1)\n",
    "y_test = df3.ups[df3.ups.isnull()== True]"
   ]
  },
  {
   "cell_type": "code",
   "execution_count": 43,
   "metadata": {},
   "outputs": [
    {
     "data": {
      "text/plain": [
       "(2252958, 41)"
      ]
     },
     "execution_count": 43,
     "metadata": {},
     "output_type": "execute_result"
    }
   ],
   "source": [
    "# check the training size\n",
    "X_train.shape"
   ]
  },
  {
   "cell_type": "code",
   "execution_count": 44,
   "metadata": {},
   "outputs": [
    {
     "data": {
      "text/plain": [
       "(965554, 41)"
      ]
     },
     "execution_count": 44,
     "metadata": {},
     "output_type": "execute_result"
    }
   ],
   "source": [
    "# Check the validation size:\n",
    "X_valid.shape"
   ]
  },
  {
   "cell_type": "code",
   "execution_count": 45,
   "metadata": {},
   "outputs": [
    {
     "data": {
      "text/plain": [
       "(1016458, 41)"
      ]
     },
     "execution_count": 45,
     "metadata": {},
     "output_type": "execute_result"
    }
   ],
   "source": [
    "# And finally check the \n",
    "X_test.shape"
   ]
  },
  {
   "cell_type": "markdown",
   "metadata": {},
   "source": [
    "Below I try a first model, which is LightGBM.LightGBM is a gradient boosting framework that uses tree based learning algorithms. It is designed to be distributed and efficient with the following advantages:\n",
    "\n",
    "    Faster training speed and higher efficiency.\n",
    "    Lower memory usage.\n",
    "    Better accuracy."
   ]
  },
  {
   "cell_type": "code",
   "execution_count": 46,
   "metadata": {},
   "outputs": [
    {
     "data": {
      "text/plain": [
       "LGBMRegressor(boosting_type='gbdt', class_weight=None, colsample_bytree=1.0,\n",
       "       importance_type='split', learning_rate=0.1, max_depth=-1,\n",
       "       min_child_samples=20, min_child_weight=0.001, min_split_gain=0.0,\n",
       "       n_estimators=100, n_jobs=-1, num_leaves=31, objective=None,\n",
       "       random_state=None, reg_alpha=0.0, reg_lambda=0.0, silent=True,\n",
       "       subsample=1.0, subsample_for_bin=200000, subsample_freq=0)"
      ]
     },
     "execution_count": 46,
     "metadata": {},
     "output_type": "execute_result"
    }
   ],
   "source": [
    "###-  first model: Light gradient boosting model:\n",
    "from lightgbm.sklearn import LGBMRegressor\n",
    "# create regressor object \n",
    "lg = LGBMRegressor()\n",
    "lg.fit(X_train, y_train)"
   ]
  },
  {
   "cell_type": "code",
   "execution_count": 47,
   "metadata": {},
   "outputs": [
    {
     "data": {
      "text/plain": [
       "9.823464992291798"
      ]
     },
     "execution_count": 47,
     "metadata": {},
     "output_type": "execute_result"
    }
   ],
   "source": [
    "# Prediction performance on the validation set\n",
    "from sklearn.metrics import mean_absolute_error\n",
    "mean_absolute_error(y_valid, lg.predict(X_valid))"
   ]
  },
  {
   "cell_type": "code",
   "execution_count": null,
   "metadata": {},
   "outputs": [],
   "source": []
  },
  {
   "cell_type": "markdown",
   "metadata": {},
   "source": [
    "My second model is XGboosting model. Another model based on the gradient boosting framework. But, salient features of XGBoost which make it different from other gradient boosting algorithms include:\n",
    "\n",
    "    Clever penalization of trees\n",
    "    A proportional shrinking of leaf nodes\n",
    "    Newton Boosting\n",
    "    Extra randomization parameter"
   ]
  },
  {
   "cell_type": "code",
   "execution_count": 48,
   "metadata": {},
   "outputs": [
    {
     "data": {
      "text/plain": [
       "XGBRegressor(base_score=0.5, booster=None, colsample_bylevel=1,\n",
       "       colsample_bynode=1, colsample_bytree=1, gamma=0, gpu_id=-1,\n",
       "       importance_type='gain', interaction_constraints=None,\n",
       "       learning_rate=0.300000012, max_delta_step=0, max_depth=6,\n",
       "       min_child_weight=1, missing=nan, monotone_constraints=None,\n",
       "       n_estimators=100, n_jobs=0, num_parallel_tree=1,\n",
       "       objective='reg:squarederror', random_state=0, reg_alpha=0,\n",
       "       reg_lambda=1, scale_pos_weight=1, subsample=1, tree_method=None,\n",
       "       validate_parameters=False, verbosity=None)"
      ]
     },
     "execution_count": 48,
     "metadata": {},
     "output_type": "execute_result"
    }
   ],
   "source": [
    "###-  Second model:  XGboosting model:\n",
    "import xgboost as xgb\n",
    "xg = xgb.XGBRegressor()\n",
    "xg.fit(X_train,y_train)"
   ]
  },
  {
   "cell_type": "code",
   "execution_count": 49,
   "metadata": {},
   "outputs": [
    {
     "data": {
      "text/plain": [
       "9.903711264750095"
      ]
     },
     "execution_count": 49,
     "metadata": {},
     "output_type": "execute_result"
    }
   ],
   "source": [
    "# Prediction performance on the validation set\n",
    "mean_absolute_error(y_valid, xg.predict(X_valid))"
   ]
  },
  {
   "cell_type": "code",
   "execution_count": 50,
   "metadata": {},
   "outputs": [
    {
     "data": {
      "text/plain": [
       "LGBMRegressor(boosting_type='gbdt', class_weight=None, colsample_bytree=1.0,\n",
       "       importance_type='split', learning_rate=0.1, max_depth=-1,\n",
       "       min_child_samples=20, min_child_weight=0.001, min_split_gain=0.0,\n",
       "       n_estimators=150, n_jobs=-1, num_leaves=31, objective=None,\n",
       "       random_state=None, reg_alpha=0.0, reg_lambda=0.0, silent=True,\n",
       "       subsample=1.0, subsample_for_bin=200000, subsample_freq=0)"
      ]
     },
     "execution_count": 50,
     "metadata": {},
     "output_type": "execute_result"
    }
   ],
   "source": [
    "###-  third model: Light gradient boosting model with 200 trees. the default was 100\n",
    "from lightgbm.sklearn import LGBMRegressor\n",
    "# create regressor object \n",
    "lg2 = LGBMRegressor(n_estimators=150)\n",
    "lg2.fit(X_train, y_train)"
   ]
  },
  {
   "cell_type": "code",
   "execution_count": 51,
   "metadata": {},
   "outputs": [
    {
     "data": {
      "text/plain": [
       "9.823004902785813"
      ]
     },
     "execution_count": 51,
     "metadata": {},
     "output_type": "execute_result"
    }
   ],
   "source": [
    "# Prediction performance on the validation set\n",
    "from sklearn.metrics import mean_absolute_error\n",
    "mean_absolute_error(y_valid, lg2.predict(X_valid))"
   ]
  },
  {
   "cell_type": "markdown",
   "metadata": {},
   "source": [
    "We see that, among the models tested, the Light gradient boosting model with default values for the paremeters gives the best performance having the lowest MAE. "
   ]
  },
  {
   "cell_type": "markdown",
   "metadata": {},
   "source": [
    "------"
   ]
  },
  {
   "cell_type": "markdown",
   "metadata": {},
   "source": [
    "### Conclusion\n",
    "\n",
    "That was an interesting project, where I had the opportunity to apply many technics I learned on network analysis and text mining. One limitation of my work, is that because of limitation of my local computer power, I was not able to implement some algorithms that would have been very insightful. For instance, in the network analysis part, I could not plot the network graph and some of community detections algorithms neither. In the modeling part, I tried to implement some models such as random foret without any success. Furthermore, when trying to implement a grid search to tune the parameters for the Light gradient boosting model, the computer run forever. \n",
    "\n",
    "Thus, the results can be improved using other tools such as pyspark that will make use of parallel computing paradigm.\n"
   ]
  },
  {
   "cell_type": "code",
   "execution_count": null,
   "metadata": {},
   "outputs": [],
   "source": []
  }
 ],
 "metadata": {
  "kernelspec": {
   "display_name": "Python 3",
   "language": "python",
   "name": "python3"
  },
  "language_info": {
   "codemirror_mode": {
    "name": "ipython",
    "version": 3
   },
   "file_extension": ".py",
   "mimetype": "text/x-python",
   "name": "python",
   "nbconvert_exporter": "python",
   "pygments_lexer": "ipython3",
   "version": "3.7.0"
  }
 },
 "nbformat": 4,
 "nbformat_minor": 2
}
